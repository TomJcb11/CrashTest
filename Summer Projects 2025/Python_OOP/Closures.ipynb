{
 "cells": [
  {
   "cell_type": "code",
   "id": "initial_id",
   "metadata": {
    "collapsed": true,
    "ExecuteTime": {
     "end_time": "2025-07-29T13:06:20.148666Z",
     "start_time": "2025-07-29T13:06:20.139992Z"
    }
   },
   "source": [
    "def f():\n",
    "    liste = []\n",
    "    for x in ('Ivan','David','Richard'):\n",
    "        def g():\n",
    "            return x\n",
    "        liste.append(g)\n",
    "    return liste\n",
    "\n",
    "L = f()\n",
    "for h in L:\n",
    "    print(h())"
   ],
   "outputs": [
    {
     "name": "stdout",
     "output_type": "stream",
     "text": [
      "Richard\n",
      "Richard\n",
      "Richard\n"
     ]
    }
   ],
   "execution_count": 6
  },
  {
   "metadata": {
    "ExecuteTime": {
     "end_time": "2025-07-29T13:07:09.091406Z",
     "start_time": "2025-07-29T13:07:09.084615Z"
    }
   },
   "cell_type": "code",
   "source": [
    "def f():\n",
    "    liste = []\n",
    "    for x in ('Ivan','David','Richard'):\n",
    "        def g():\n",
    "            print(f\"x est actuellement: {x}\")\n",
    "            return x\n",
    "        liste.append(g)\n",
    "        print(liste)\n",
    "    return liste\n",
    "\n",
    "L = f()\n",
    "for h in L:\n",
    "    h()\n"
   ],
   "id": "89bb3963b80dbfb7",
   "outputs": [
    {
     "name": "stdout",
     "output_type": "stream",
     "text": [
      "[<function f.<locals>.g at 0x777a3a04a660>]\n",
      "[<function f.<locals>.g at 0x777a3a04a660>, <function f.<locals>.g at 0x777a3a04a700>]\n",
      "[<function f.<locals>.g at 0x777a3a04a660>, <function f.<locals>.g at 0x777a3a04a700>, <function f.<locals>.g at 0x777a3a049f80>]\n",
      "x est actuellement: Richard\n",
      "x est actuellement: Richard\n",
      "x est actuellement: Richard\n"
     ]
    }
   ],
   "execution_count": 10
  },
  {
   "metadata": {},
   "cell_type": "code",
   "outputs": [],
   "execution_count": null,
   "source": "",
   "id": "2e91189a03cab6d5"
  }
 ],
 "metadata": {
  "kernelspec": {
   "display_name": "Python 3",
   "language": "python",
   "name": "python3"
  },
  "language_info": {
   "codemirror_mode": {
    "name": "ipython",
    "version": 2
   },
   "file_extension": ".py",
   "mimetype": "text/x-python",
   "name": "python",
   "nbconvert_exporter": "python",
   "pygments_lexer": "ipython2",
   "version": "2.7.6"
  }
 },
 "nbformat": 4,
 "nbformat_minor": 5
}
